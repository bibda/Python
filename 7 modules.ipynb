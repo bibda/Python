{
 "cells": [
  {
   "cell_type": "markdown",
   "metadata": {},
   "source": [
    "# Modules\n",
    "\n",
    "Email : <a href='mailto:madani.a@ucd.ac.ma'>madani.a@ucd.ac.ma</a>\n",
    "<img src='images/python.png'>"
   ]
  },
  {
   "cell_type": "markdown",
   "metadata": {},
   "source": [
    "<p>\n",
    "Un module est un fichier d’extension \".py\" dans lequel on peut regrouper des variables, des fonctionset des classes traitant des problèmes de même nature ou manipulant le même type d’objet.\n",
    "</p>\n",
    "<p>\n",
    "Des modules standards prêts à l’emploi sont livrés avec la distribution Python. Par exemple, random, math, os, etc. Ils sont visibles dans le répertoire \"lib\" de Python.\n",
    "</p>\n",
    "<p>\n",
    "Pour charger les fonctions d’un module dans un autre module, une autre fonction ou dans un programme principal, on utilise l’une des commandes suivantes :\n",
    "</p>"
   ]
  },
  {
   "cell_type": "markdown",
   "metadata": {},
   "source": [
    "<ul>\n",
    "<li><strong>import</strong> nom_du_module\n",
    "<li><strong>import</strong> nom_du_module as <strong>alias</strong>\n",
    "<li><strong>from</strong> nom_du_module <strong>import</strong> nom_de_la_methode\n",
    "<li><strong>form</strong> nom_du_module <strong>import *</strong>\n",
    "</ul>"
   ]
  },
  {
   "cell_type": "markdown",
   "metadata": {},
   "source": [
    "Les fonctions importées sont chargées en mémoire. S’il y a une confusion de noms, les plus récentes écrasent les anciennes. Par exemple :"
   ]
  },
  {
   "cell_type": "code",
   "execution_count": 1,
   "metadata": {},
   "outputs": [
    {
     "name": "stdout",
     "output_type": "stream",
     "text": [
      "0.18484555010098913\n"
     ]
    }
   ],
   "source": [
    "# -*-coding: utf-*-\n",
    "#importer les modules math et random\n",
    "import math, random\n",
    "#générer un nombre réel compris entre 0 et 1\n",
    "value = random.random()\n",
    "#calculer le carré de son logarithme\n",
    "logv= math.log(value)\n",
    "abslog= math.pow(logv,2.0)\n",
    "#affichage\n",
    "print(abslog)"
   ]
  },
  {
   "cell_type": "markdown",
   "metadata": {},
   "source": [
    "Pour ne pas préfixer les fonctions importées, on utilise <strong>from nom_module import fonction1, …</strong>, au lieu de <strong>import nom_module</strong>. Par exemple :"
   ]
  },
  {
   "cell_type": "code",
   "execution_count": 2,
   "metadata": {},
   "outputs": [
    {
     "name": "stdout",
     "output_type": "stream",
     "text": [
      "16.0\n",
      "16.0\n"
     ]
    }
   ],
   "source": [
    "import math\n",
    "print(math.pow(4, 2))\n",
    "from math import pow\n",
    "print(pow(4, 2))\n"
   ]
  },
  {
   "cell_type": "markdown",
   "metadata": {},
   "source": [
    "On peut vider de la mémoire un module chargé avec l’instruction <strong>del</strong> comme-suit :\n",
    "<p>\n",
    "<strong>del nom_du_module</strong>\n",
    "</p>"
   ]
  },
  {
   "cell_type": "code",
   "execution_count": 6,
   "metadata": {},
   "outputs": [
    {
     "name": "stdout",
     "output_type": "stream",
     "text": [
      "16.0\n"
     ]
    },
    {
     "ename": "NameError",
     "evalue": "name 'math' is not defined",
     "output_type": "error",
     "traceback": [
      "\u001b[1;31m---------------------------------------------------------------------------\u001b[0m",
      "\u001b[1;31mNameError\u001b[0m                                 Traceback (most recent call last)",
      "\u001b[1;32m<ipython-input-6-a05dbd6d942d>\u001b[0m in \u001b[0;36m<module>\u001b[1;34m()\u001b[0m\n\u001b[0;32m      2\u001b[0m \u001b[0mprint\u001b[0m\u001b[1;33m(\u001b[0m\u001b[0mmath\u001b[0m\u001b[1;33m.\u001b[0m\u001b[0mpow\u001b[0m\u001b[1;33m(\u001b[0m\u001b[1;36m4\u001b[0m\u001b[1;33m,\u001b[0m\u001b[1;36m2\u001b[0m\u001b[1;33m)\u001b[0m\u001b[1;33m)\u001b[0m\u001b[1;33m\u001b[0m\u001b[0m\n\u001b[0;32m      3\u001b[0m \u001b[1;32mdel\u001b[0m \u001b[0mmath\u001b[0m\u001b[1;33m\u001b[0m\u001b[0m\n\u001b[1;32m----> 4\u001b[1;33m \u001b[0mprint\u001b[0m\u001b[1;33m(\u001b[0m\u001b[0mmath\u001b[0m\u001b[1;33m.\u001b[0m\u001b[0mpow\u001b[0m\u001b[1;33m(\u001b[0m\u001b[1;36m4\u001b[0m\u001b[1;33m,\u001b[0m\u001b[1;36m3\u001b[0m\u001b[1;33m)\u001b[0m\u001b[1;33m)\u001b[0m\u001b[1;33m\u001b[0m\u001b[0m\n\u001b[0m",
      "\u001b[1;31mNameError\u001b[0m: name 'math' is not defined"
     ]
    }
   ],
   "source": [
    "import math\n",
    "print(math.pow(4,2))\n",
    "del math\n",
    "print(math.pow(4,3))"
   ]
  },
  {
   "cell_type": "markdown",
   "metadata": {},
   "source": [
    "Pour avoir l’aide sur un module ou une méthode d’un module, il suffit d’utiliser la fonction <strong>help()</strong> :"
   ]
  },
  {
   "cell_type": "markdown",
   "metadata": {},
   "source": [
    "<strong>\n",
    "<ul>\n",
    "<li>help(nom_du_module)\n",
    "<li>help(nom_du_module.methode)\n",
    "</ul>\n",
    "</strong>"
   ]
  },
  {
   "cell_type": "code",
   "execution_count": 9,
   "metadata": {},
   "outputs": [
    {
     "name": "stdout",
     "output_type": "stream",
     "text": [
      "Help on built-in function pow in module math:\n",
      "\n",
      "pow(...)\n",
      "    pow(x, y)\n",
      "    \n",
      "    Return x**y (x to the power of y).\n",
      "\n"
     ]
    }
   ],
   "source": [
    "import math\n",
    "help(math.pow)"
   ]
  },
  {
   "cell_type": "markdown",
   "metadata": {},
   "source": [
    "Quelques modules standards :\n",
    "<ul>\n",
    "<li>math : fonctions et constantes mathématiques de base (sin, cos, exp, pi...).\n",
    "<li>sys : passage d’arguments, gestion de l’entrée/sortie standard...\n",
    "<li>os : dialogue avec le système d’exploitation\n",
    "<li>random : génération de nombres aléatoires.\n",
    "<li>time : permet d’accéder à l’heure de l’ordinateur et aux fonctions gérant le temps.\n",
    "<li>calendar : fonctions de calendrier.\n",
    "<li>profile : permet d’évaluer le temps d’exécution de chaque fonction dans un programme.\n",
    "<li>urllib2 : permet de récupérer des données sur internet depuis python.\n",
    "<li>Tkinter : interface python avec Tk.\n",
    "<li>re : gestion des expressions régulières.\n",
    "<li>Numpy : pour utiliser l’algèbre linéaire, la transformée de Fourier, …\n",
    "<li>Biopython : permet la recherche dans les banquesde données biologiques\n",
    "<li>Rpy : pour le dialogue R/Python\n",
    "</ul>"
   ]
  },
  {
   "cell_type": "markdown",
   "metadata": {},
   "source": [
    "<strong><u>Exemple 1</u></strong> : récupérer les arguments à partir de la ligne de commande"
   ]
  },
  {
   "cell_type": "code",
   "execution_count": 10,
   "metadata": {},
   "outputs": [
    {
     "ename": "ValueError",
     "evalue": "could not convert string to float: '-f'",
     "output_type": "error",
     "traceback": [
      "\u001b[1;31m---------------------------------------------------------------------------\u001b[0m",
      "\u001b[1;31mValueError\u001b[0m                                Traceback (most recent call last)",
      "\u001b[1;32m<ipython-input-10-91c3147efacf>\u001b[0m in \u001b[0;36m<module>\u001b[1;34m()\u001b[0m\n\u001b[0;32m      4\u001b[0m     \u001b[0msys\u001b[0m\u001b[1;33m.\u001b[0m\u001b[0mexit\u001b[0m\u001b[1;33m(\u001b[0m\u001b[1;34m\"dans le script '\"\u001b[0m\u001b[1;33m+\u001b[0m\u001b[0msys\u001b[0m\u001b[1;33m.\u001b[0m\u001b[0margv\u001b[0m\u001b[1;33m[\u001b[0m\u001b[1;36m0\u001b[0m\u001b[1;33m]\u001b[0m\u001b[1;33m+\u001b[0m\u001b[1;34m\"' le nombre d'argument doit être 3\"\u001b[0m\u001b[1;33m)\u001b[0m\u001b[1;33m\u001b[0m\u001b[0m\n\u001b[0;32m      5\u001b[0m \u001b[1;32melse\u001b[0m\u001b[1;33m:\u001b[0m\u001b[1;33m\u001b[0m\u001b[0m\n\u001b[1;32m----> 6\u001b[1;33m     \u001b[0ma\u001b[0m\u001b[1;33m=\u001b[0m\u001b[0mfloat\u001b[0m\u001b[1;33m(\u001b[0m\u001b[0msys\u001b[0m\u001b[1;33m.\u001b[0m\u001b[0margv\u001b[0m\u001b[1;33m[\u001b[0m\u001b[1;36m1\u001b[0m\u001b[1;33m]\u001b[0m\u001b[1;33m)\u001b[0m\u001b[1;33m\u001b[0m\u001b[0m\n\u001b[0m\u001b[0;32m      7\u001b[0m     \u001b[0mb\u001b[0m\u001b[1;33m=\u001b[0m\u001b[0mfloat\u001b[0m\u001b[1;33m(\u001b[0m\u001b[0msys\u001b[0m\u001b[1;33m.\u001b[0m\u001b[0margv\u001b[0m\u001b[1;33m[\u001b[0m\u001b[1;36m2\u001b[0m\u001b[1;33m]\u001b[0m\u001b[1;33m)\u001b[0m\u001b[1;33m\u001b[0m\u001b[0m\n\u001b[0;32m      8\u001b[0m     \u001b[0mprint\u001b[0m \u001b[1;33m(\u001b[0m\u001b[1;34m\"{:.2f} + {:.2f}={:.2f}\"\u001b[0m\u001b[1;33m.\u001b[0m\u001b[0mformat\u001b[0m\u001b[1;33m(\u001b[0m\u001b[0ma\u001b[0m\u001b[1;33m,\u001b[0m\u001b[0mb\u001b[0m\u001b[1;33m,\u001b[0m\u001b[0ma\u001b[0m\u001b[1;33m+\u001b[0m\u001b[0mb\u001b[0m\u001b[1;33m)\u001b[0m\u001b[1;33m)\u001b[0m\u001b[1;33m\u001b[0m\u001b[0m\n",
      "\u001b[1;31mValueError\u001b[0m: could not convert string to float: '-f'"
     ]
    }
   ],
   "source": [
    "#coding:utf8#\n",
    "import sys\n",
    "if len(sys.argv)!=3:\n",
    "    sys.exit(\"dans le script '\"+sys.argv[0]+\"' le nombre d'argument doit être 3\")\n",
    "else:\n",
    "    a=float(sys.argv[1])\n",
    "    b=float(sys.argv[2])\n",
    "    print (\"{:.2f} + {:.2f}={:.2f}\".format(a,b,a+b))"
   ]
  },
  {
   "cell_type": "markdown",
   "metadata": {},
   "source": [
    "<strong><u>Exemple 2</u></strong> : vérifier l’existence d’un fichier"
   ]
  },
  {
   "cell_type": "code",
   "execution_count": 18,
   "metadata": {},
   "outputs": [
    {
     "name": "stdout",
     "output_type": "stream",
     "text": [
      "le fichier existe\n"
     ]
    }
   ],
   "source": [
    "import sys\n",
    "import os\n",
    "if os.path.exists(\"truc.txt\"):\n",
    "    print (\"le fichier existe\")\n",
    "else:\n",
    "    sys.exit(\"le fichier n'existe pas\")\n"
   ]
  },
  {
   "cell_type": "markdown",
   "metadata": {},
   "source": [
    "<strong>Exercice 1</strong>\n",
    "<p>\n",
    "Affichez sur la même ligne les nombres de 10 à 20 (inclus) ainsi que leur racine carréeavec 3 décimales (module math). Exemple :\n",
    "</p>\n",
    "<p>\n",
    "10 3.162 <br>\n",
    "11 3.317<br>\n",
    "12 3.464<br>\n",
    "13 3.606<br>\n",
    "</p>"
   ]
  },
  {
   "cell_type": "markdown",
   "metadata": {},
   "source": [
    "<strong>Exercice 2</strong>\n",
    "<p>\n",
    "Écrivez les nombres de 1 à 10 avec 1 seconde d’intervalle (module time).\n",
    "</p>"
   ]
  },
  {
   "cell_type": "markdown",
   "metadata": {},
   "source": [
    "<strong>Exercice 3</strong>\n",
    "<p>\n",
    "Ecrire un module de calcul des racines du trinôme réel : ax<sup>2</sup> + bx + c.\n",
    "</p>\n",
    "<p>\n",
    "Le module doit retourner une fonction trinome avec les trois paramètres du trinôme, a, b et c. la fonction doit retourner un tuple dont le premier élément est le nombre de racine du trinôme (0, 1 ou 2), et les autres éléments sont les racines éventuelles.\n",
    "</p>"
   ]
  },
  {
   "cell_type": "markdown",
   "metadata": {},
   "source": [
    "<strong>Exercice 4</strong>\n",
    "<ul>\n",
    "<li>On appelle nombre premier tout entier naturel supérieur à 1 qui possède exactement deux diviseurs, lui-même et l’unité ;\n",
    "<li>On appelle diviseur propre de n, un diviseur quelconque de n, n exclu ;\n",
    "<li>un entier naturel est dit parfait s’il est égal à la somme de tous ses diviseurs propres ;\n",
    "<li>les nombres a tels que : (a + n + n2) est premier pour tout n dans [0, n-2], sont appelés nombres chanceux.\n",
    "</ul>"
   ]
  }
 ],
 "metadata": {
  "kernelspec": {
   "display_name": "Python 3",
   "language": "python",
   "name": "python3"
  },
  "language_info": {
   "codemirror_mode": {
    "name": "ipython",
    "version": 3
   },
   "file_extension": ".py",
   "mimetype": "text/x-python",
   "name": "python",
   "nbconvert_exporter": "python",
   "pygments_lexer": "ipython3",
   "version": "3.6.3"
  }
 },
 "nbformat": 4,
 "nbformat_minor": 2
}
