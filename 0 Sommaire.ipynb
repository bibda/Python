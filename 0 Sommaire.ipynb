{
 "cells": [
  {
   "cell_type": "markdown",
   "metadata": {},
   "source": [
    "# Langage Python 3\n",
    "\n",
    "Email : <a href='mailto:madani.a@ucd.ac.ma'>madani.a@ucd.ac.ma</a>\n",
    "<img src='images/python.png'>\n",
    "\n",
    "## Table de matières\n",
    "1.\tIntroduction\n",
    "2.\tEntrées/sorties et variables\n",
    "3.\tContrôle de flux d’instructions : IF\n",
    "4.\tBoucles : FOR et WHILE\n",
    "5.\tConteneurs standards : listes, tuples, ensembles et dictionnaires\n",
    "6.\tFonctions et procédures\n",
    "7.\tModules\n",
    "8.\tProgrammation orientée objets\n",
    "9.\tExceptions\n"
   ]
  }
 ],
 "metadata": {
  "kernelspec": {
   "display_name": "Python 3",
   "language": "python",
   "name": "python3"
  },
  "language_info": {
   "codemirror_mode": {
    "name": "ipython",
    "version": 3
   },
   "file_extension": ".py",
   "mimetype": "text/x-python",
   "name": "python",
   "nbconvert_exporter": "python",
   "pygments_lexer": "ipython3",
   "version": "3.6.3"
  }
 },
 "nbformat": 4,
 "nbformat_minor": 2
}
