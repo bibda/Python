{
 "cells": [
  {
   "cell_type": "markdown",
   "metadata": {},
   "source": [
    "# Les entrées/sorties et les variables\n",
    "\n",
    "# Rappels de cours\n",
    "\n",
    "## Identificateur\n",
    "\n",
    "<p>\n",
    "Comme tout langage de programmation, Python utilise des identifiants pour nommer ses objets. Un identifiant commence par une lettre ou un caractère souligné, suivi par d’autres lettres, chiffres ou un caractère souligné. \n",
    "</p>\n",
    "<p>\n",
    "Les identifiants sont sensibles à la casse et ne doivent pas être des mots réservés. La version 3.1.2 de Python compte 33 mots clés, qui sont :\n",
    "</p>\n",
    "<p>\n",
    "<div align=\"left\">\n",
    "<table border=\"1\" width=\"80%\">\n",
    "<tr><td>and</td><td>del</td><td>from</td><td>None</td><td>true</td><td>As</td><td>elif</td><td>global</td><td>nonlocal</td><td>try</td><td>assert</td></tr>\n",
    "<tr><td>else</td><td>If</td><td>not</td><td>While</td><td>break</td><td>except</td><td>import</td><td>or</td><td>With</td><td>class</td><td>False</td></tr>\n",
    "<tr><td>in</td><td>pass</td><td>yield</td><td>Continue</td><td>finally</td><td>is</td><td>raise</td><td>def</td><td>For</td><td>lambda</td><td>return</td></tr>\n",
    "</table>\n",
    "</div>\n",
    "</p>"
   ]
  },
  {
   "cell_type": "markdown",
   "metadata": {},
   "source": [
    "## Expressions\n",
    "<p>\n",
    "Une expression est une portion de code que l’interpréteur Python peut évaluer pour obtenir une valeur. Les expressions peuvent être simples ou complexes. Elles sont formées d’une combinaison de littéraux, d’identifiants et d’opérateurs. \n",
    "</p>"
   ]
  },
  {
   "cell_type": "markdown",
   "metadata": {},
   "source": [
    "## Opérateurs\n",
    "<p>\n",
    "Les opérateurs sont le fondement même du traitement des opérations mathématiques et comparatives de n'importe quel langage, le langage Python ne fait pas exception.\n",
    "</p>"
   ]
  },
  {
   "cell_type": "markdown",
   "metadata": {},
   "source": [
    "### Les opérateurs de comparaison\n",
    "<p>\n",
    "<table border=\"1\" width=\"60%\">\n",
    "<tr><td>Opérateur</td><td>Description</td></tr>\n",
    "<tr><td>==</td><td>Egalité</td></tr>\n",
    "<tr><td>!=</td><td>Différence</td></tr>\n",
    "<tr><td>></td><td>\tPlus grand que</td></tr>\n",
    "<tr><td>>=</td><td>Plus grand ou égal que</td></tr>\n",
    "<tr><td><</td><td>Plus petit que</td></tr>\n",
    "<tr><td><=</td><td>Plus petit ou égal que</td></tr>\n",
    "</table>\n",
    "</p>"
   ]
  },
  {
   "cell_type": "markdown",
   "metadata": {},
   "source": [
    "### Les opérateurs de calcul\n",
    "<p>\n",
    "<table border=\"1\" width=\"80%\" align=\"center\">\n",
    "<tr><td><b>Opérateur</b></td><td><b>Description</b></td></tr>\n",
    "<tr><td>+</td><td>Addition</td></tr>\n",
    "<tr><td>-</td><td>Soustraction</td></tr>\n",
    "<tr><td>*</td><td>Multiplication</td></tr>\n",
    "<tr><td>/</td><td>Division</td></tr>\n",
    "<tr><td>//</td><td>Division entière</td></tr>\n",
    "<tr><td>%</td><td>Reste d'une division (modulo)t</td></tr>\n",
    "<tr><td>**</td><td>Exposant</td></tr>\n",
    "</table>\n",
    "</p>"
   ]
  },
  {
   "cell_type": "markdown",
   "metadata": {},
   "source": [
    "### Les opérateurs de chaine de caractères\n",
    "<p>\n",
    "<table border=\"1\" width=\"80%\">\n",
    "<tr><td>Opérateur</td><td>Description</td></tr>\n",
    "<tr><td>sous-chaine in chaine</td><td>Indique si une sous-chaine de caractères est contenue dans une chaine de caractères</td></tr>\n",
    "<tr><td>chaine1 + chaine2</td><td>Effectue la concaténation de chaines de caractères</td></tr>\n",
    "<tr><td>chaine *nombrerépétition</td><td>Effectue une répétition de la chaine de caractères</td></tr>\n",
    "<tr><td>u\"message\"</td><td>Définit une chaine de caractères de format Unicode</td></tr>\n",
    "\n",
    "<tr><td>chaine1 == chaine2</td><td>Egalité</td></tr>\n",
    "<tr><td>chaine1 != chaine2</td><td>Différence</td></tr>\n",
    "<tr><td>chaine1 > chaine2</td><td>Plus grand que</td></tr>\n",
    "<tr><td>chaine1 >= chaine2</td><td>Plus grand ou égal que</td></tr>\n",
    "<tr><td>chaine1 < chaine2</td><td>Plus petit que</td></tr>\n",
    "<tr><td>chaine1 <= chaine2\t</td><td>Plus petit ou égal que</td></tr>\n",
    "</table>\n",
    "</p>"
   ]
  },
  {
   "cell_type": "markdown",
   "metadata": {},
   "source": [
    "## Entrées des données\n",
    "<p>\n",
    "Il s’agit de réaliser une saisie à l’écran : la fonction standard input() interrompt le programme, affiche une éventuelle invite et attend que l’utilisateur entre une donnée et lavalide par la touche\"Entrée\".\n",
    "</p>\n",
    "<p>\n",
    "La fonction standard input() effectue toujours une saisie en mode texte (la saisie estune chaîne) qu’on doit ensuite transtyper  (changer le type) :\n",
    "</p>\n"
   ]
  },
  {
   "cell_type": "code",
   "execution_count": null,
   "metadata": {},
   "outputs": [],
   "source": [
    "nb_etudiant = input(\"Entrez le nombre d’étudiants : \")\n",
    "print(nb_etudiant,'est de type',type(nb_etudiant)) # <class ’str’> (c’est une chaîne)\n",
    "f1 = input(\"\\nEntrez un flottant : \")\n",
    "f1 = float(f1) # transtypage en flottant\n",
    "print(f1,'est de type',type(f2))\n",
    "# ou plus brièvement :\n",
    "f2 = float(input(\"Entrez un autre flottant : \")) #forcer le typage d’une variable\n",
    "print(f2,'est de type',type(f2)) # <class ’float’> #Connaître le type d’une variable"
   ]
  },
  {
   "cell_type": "markdown",
   "metadata": {},
   "source": [
    "<p>\n",
    "les fonctions de transtypage sont <b>int()</b> et <b>float()</b> pour convertir une chaîne de caractères en un nombre (entier ou réel respectivement). La fonction <b>str()</b> permet de convertir un nombre en une chaîne de caractères, alors <b>bool()</b> est utilisée pour convertir un nombre ou une chaîne en un booléen.\n",
    "</p>\n"
   ]
  },
  {
   "cell_type": "markdown",
   "metadata": {},
   "source": [
    "\n",
    "## Sortie des résultats\n",
    "<p>\n",
    "En mode console, le fait de saisir le nom d’une variable Python affiche sa valeur, mais dans un script la fonction print() reste indispensable pour afficher des données.\n",
    "</p>\n",
    "<p>\n",
    "La fonction format() associée à print() est utilisée pour formater les données afin d’avoir une meilleure organisation de l’affichage des résultats.\n",
    "</p>"
   ]
  },
  {
   "cell_type": "code",
   "execution_count": null,
   "metadata": {},
   "outputs": [],
   "source": [
    "age= 32\n",
    "nom = \"Assim\"\n",
    "print \"M. {} a {} ans\".format(nom, age)"
   ]
  },
  {
   "cell_type": "code",
   "execution_count": null,
   "metadata": {},
   "outputs": [],
   "source": [
    "a = 1.0\n",
    "b = 3.0\n",
    "c = a/b\n",
    "print('a={ :d}, b={ :d} et c={ :.2f}').format(a, b, c)"
   ]
  },
  {
   "cell_type": "code",
   "execution_count": null,
   "metadata": {},
   "outputs": [],
   "source": [
    "print \"a=%d, b=%d et c%.23\"%(a, b, c)"
   ]
  },
  {
   "cell_type": "code",
   "execution_count": null,
   "metadata": {
    "collapsed": true
   },
   "outputs": [],
   "source": [
    "print(‘{ :*>6d}’).format(a) # > :aligné à droite, < :aligné à gauche, ^ :centré"
   ]
  },
  {
   "cell_type": "markdown",
   "metadata": {},
   "source": [
    "# Applications"
   ]
  },
  {
   "cell_type": "markdown",
   "metadata": {},
   "source": [
    "## Exercice 1\n",
    "<p>\n",
    "Ecrire un script permettant d’affecter aux variables temps et distances les valeurs 2.75 et 125.5 pour calculer et afficher la valeur de la vitesse.\n",
    "</p>\n",
    "<p>\n",
    "Améliorer l’affichage précédent en se limitant le nombre de chiffres après la virgule à deux\n",
    "</p>\n"
   ]
  },
  {
   "cell_type": "markdown",
   "metadata": {},
   "source": [
    "## Exercice 2\n",
    "<p>\n",
    "Etant donné deux entiers saisis au clavier, écrire un script pour les permuter et les afficher\n",
    "</p> "
   ]
  },
  {
   "cell_type": "markdown",
   "metadata": {},
   "source": [
    "## Exercice 3\n",
    "<p>\n",
    "A partir de trois notes et de leurs coefficients respectifs, calculer puis afficher la moyenne avec deux chiffres après la virgule.\n",
    "</p>"
   ]
  }
 ],
 "metadata": {
  "kernelspec": {
   "display_name": "Python 3",
   "language": "python",
   "name": "python3"
  },
  "language_info": {
   "codemirror_mode": {
    "name": "ipython",
    "version": 3
   },
   "file_extension": ".py",
   "mimetype": "text/x-python",
   "name": "python",
   "nbconvert_exporter": "python",
   "pygments_lexer": "ipython3",
   "version": "3.6.3"
  }
 },
 "nbformat": 4,
 "nbformat_minor": 2
}
